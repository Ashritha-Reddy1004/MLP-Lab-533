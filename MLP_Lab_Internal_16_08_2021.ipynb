{
  "nbformat": 4,
  "nbformat_minor": 0,
  "metadata": {
    "colab": {
      "name": "MLP_Lab_Internal_16-08-2021.ipynb",
      "provenance": []
    },
    "kernelspec": {
      "display_name": "Python 3",
      "name": "python3"
    },
    "language_info": {
      "name": "python"
    }
  },
  "cells": [
    {
      "cell_type": "markdown",
      "metadata": {
        "id": "EatFwqdMFpiV"
      },
      "source": [
        "\n",
        "***a)Write a program to implement create own dataset with a size of 1000x5 and apply logistic regression  and SVM***"
      ]
    },
    {
      "cell_type": "code",
      "metadata": {
        "id": "eFY8LY1iFqiB"
      },
      "source": [
        "import numpy as np\n",
        "import pandas as pd\n",
        "import sklearn\n"
      ],
      "execution_count": null,
      "outputs": []
    },
    {
      "cell_type": "code",
      "metadata": {
        "colab": {
          "base_uri": "https://localhost:8080/"
        },
        "id": "zItrwSQFMJZx",
        "outputId": "0ead5279-03b5-4e51-8ff6-e9cfe2d4ef44"
      },
      "source": [
        "df=pd.DataFrame(np.random.randint(0,100,size=(1000,5)),columns=list('mnopq'))\n",
        "df.head(5)\n",
        "print (df)"
      ],
      "execution_count": null,
      "outputs": [
        {
          "name": "stdout",
          "output_type": "stream",
          "text": [
            "      m   n   o   p   q\n",
            "0     7  60  44  47  95\n",
            "1    30  66  83  94   4\n",
            "2    82  24   4   8  84\n",
            "3    64  75  30  11  78\n",
            "4    78  72  53  18  67\n",
            "..   ..  ..  ..  ..  ..\n",
            "995  93  45  97  11  89\n",
            "996   9  19   6  57  41\n",
            "997  15  12  26  49  91\n",
            "998  88  25  15  50  30\n",
            "999  22  33  51  26  91\n",
            "\n",
            "[1000 rows x 5 columns]\n"
          ]
        }
      ]
    },
    {
      "cell_type": "code",
      "metadata": {
        "colab": {
          "base_uri": "https://localhost:8080/"
        },
        "id": "aV-Ko4A7SH0m",
        "outputId": "0c5a047c-53af-4e14-ae81-5de50fa41185"
      },
      "source": [
        "\n",
        "df.shape"
      ],
      "execution_count": null,
      "outputs": [
        {
          "data": {
            "text/plain": [
              "(1000, 5)"
            ]
          },
          "execution_count": 7,
          "metadata": {
            "tags": []
          },
          "output_type": "execute_result"
        }
      ]
    },
    {
      "cell_type": "code",
      "metadata": {
        "id": "g9eEk_UeSbII"
      },
      "source": [
        "feature_cols = ['m']\n",
        "X = df[feature_cols] # Features\n",
        "y = df.n# Target variable"
      ],
      "execution_count": null,
      "outputs": []
    },
    {
      "cell_type": "code",
      "metadata": {
        "id": "QEw8UJAeTVfQ"
      },
      "source": [
        "from sklearn.model_selection import train_test_split\n",
        "X_train,X_test,y_train,y_test=train_test_split(X,y,test_size=0.2,random_state=1)"
      ],
      "execution_count": null,
      "outputs": []
    },
    {
      "cell_type": "code",
      "metadata": {
        "id": "4QQh_6ZOVh5t"
      },
      "source": [
        "logreg = LogisticRegression(max_iter=10000)"
      ],
      "execution_count": null,
      "outputs": []
    },
    {
      "cell_type": "code",
      "metadata": {
        "colab": {
          "base_uri": "https://localhost:8080/"
        },
        "id": "fzVQ1uhwTgCY",
        "outputId": "59761981-6230-4962-b213-d31d0ce4a8cd"
      },
      "source": [
        "from sklearn.linear_model import LogisticRegression\n",
        "logreg = LogisticRegression()\n",
        "log_reg = LogisticRegression(solver='lbfgs',class_weight='balanced', max_iter=1000000)\n",
        "logreg.fit(X_train,y_train)\n",
        "y_pred=logreg.predict(X_test)\n"
      ],
      "execution_count": null,
      "outputs": [
        {
          "name": "stderr",
          "output_type": "stream",
          "text": [
            "/usr/local/lib/python3.7/dist-packages/sklearn/linear_model/_logistic.py:940: ConvergenceWarning: lbfgs failed to converge (status=1):\n",
            "STOP: TOTAL NO. of ITERATIONS REACHED LIMIT.\n",
            "\n",
            "Increase the number of iterations (max_iter) or scale the data as shown in:\n",
            "    https://scikit-learn.org/stable/modules/preprocessing.html\n",
            "Please also refer to the documentation for alternative solver options:\n",
            "    https://scikit-learn.org/stable/modules/linear_model.html#logistic-regression\n",
            "  extra_warning_msg=_LOGISTIC_SOLVER_CONVERGENCE_MSG)\n"
          ]
        }
      ]
    },
    {
      "cell_type": "code",
      "metadata": {
        "id": "DhDfN6rsWm4O"
      },
      "source": [
        "\n",
        "\n",
        "logModel = LogisticRegression()\n",
        "\n"
      ],
      "execution_count": null,
      "outputs": []
    },
    {
      "cell_type": "code",
      "metadata": {
        "id": "lr1Qq3PbWnCt"
      },
      "source": [
        "param_grid = [    \n",
        "    {'penalty' : ['l1', 'l2', 'elasticnet', 'none'],\n",
        "    'C' : np.logspace(-4, 4, 20),\n",
        "    'solver' : ['lbfgs','newton-cg','liblinear','sag','saga'],\n",
        "    'max_iter' : [100, 1000,2500, 5000]\n",
        "    }\n",
        "]"
      ],
      "execution_count": null,
      "outputs": []
    },
    {
      "cell_type": "code",
      "metadata": {
        "id": "VHoDiC76WzVG"
      },
      "source": [
        "from sklearn.model_selection import GridSearchCV"
      ],
      "execution_count": null,
      "outputs": []
    },
    {
      "cell_type": "code",
      "metadata": {
        "id": "iLv3hyngW2o_"
      },
      "source": [
        "clf = GridSearchCV(logModel, param_grid = param_grid, cv = 3, verbose=True, n_jobs=-1)\n"
      ],
      "execution_count": null,
      "outputs": []
    },
    {
      "cell_type": "code",
      "metadata": {
        "colab": {
          "background_save": true,
          "base_uri": "https://localhost:8080/"
        },
        "id": "89qkM9waW5YW",
        "outputId": "e94456bd-62d9-4ecf-864a-ef0b317614dc"
      },
      "source": [
        "\n",
        "\n",
        "best_clf = clf.fit(X,y)\n",
        "\n"
      ],
      "execution_count": null,
      "outputs": [
        {
          "name": "stdout",
          "output_type": "stream",
          "text": [
            "Fitting 3 folds for each of 1600 candidates, totalling 4800 fits\n"
          ]
        },
        {
          "name": "stderr",
          "output_type": "stream",
          "text": [
            "/usr/local/lib/python3.7/dist-packages/sklearn/model_selection/_split.py:667: UserWarning: The least populated class in y has only 2 members, which is less than n_splits=3.\n",
            "  % (min_groups, self.n_splits)), UserWarning)\n",
            "[Parallel(n_jobs=-1)]: Using backend LokyBackend with 2 concurrent workers.\n",
            "[Parallel(n_jobs=-1)]: Done  63 tasks      | elapsed:   11.4s\n",
            "[Parallel(n_jobs=-1)]: Done 216 tasks      | elapsed:  3.0min\n",
            "[Parallel(n_jobs=-1)]: Done 474 tasks      | elapsed:  7.2min\n",
            "[Parallel(n_jobs=-1)]: Done 842 tasks      | elapsed: 12.7min\n",
            "[Parallel(n_jobs=-1)]: Done 1312 tasks      | elapsed: 20.8min\n",
            "[Parallel(n_jobs=-1)]: Done 1878 tasks      | elapsed: 32.8min\n",
            "[Parallel(n_jobs=-1)]: Done 2552 tasks      | elapsed: 45.2min\n",
            "[Parallel(n_jobs=-1)]: Done 3326 tasks      | elapsed: 60.0min\n",
            "[Parallel(n_jobs=-1)]: Done 4208 tasks      | elapsed: 75.7min\n",
            "[Parallel(n_jobs=-1)]: Done 4800 out of 4800 | elapsed: 88.0min finished\n"
          ]
        }
      ]
    },
    {
      "cell_type": "code",
      "metadata": {
        "colab": {
          "background_save": true
        },
        "id": "Sr-KoH1NXAp8",
        "outputId": "23fd56c9-2979-4441-d4d6-893dfe111354"
      },
      "source": [
        "best_clf.best_estimator_"
      ],
      "execution_count": null,
      "outputs": [
        {
          "data": {
            "text/plain": [
              "LogisticRegression(C=0.03359818286283781, class_weight=None, dual=False,\n",
              "                   fit_intercept=True, intercept_scaling=1, l1_ratio=None,\n",
              "                   max_iter=5000, multi_class='auto', n_jobs=None, penalty='l1',\n",
              "                   random_state=None, solver='saga', tol=0.0001, verbose=0,\n",
              "                   warm_start=False)"
            ]
          },
          "execution_count": null,
          "metadata": {},
          "output_type": "execute_result"
        }
      ]
    },
    {
      "cell_type": "code",
      "metadata": {
        "colab": {
          "background_save": true
        },
        "id": "36zCDGcQXDy4",
        "outputId": "039f2d2c-aab3-4e36-c91c-95810311d10f"
      },
      "source": [
        "\n",
        "\n",
        "print (f'Accuracy - : {best_clf.score(X,y):.3f}')\n",
        "\n"
      ],
      "execution_count": null,
      "outputs": [
        {
          "name": "stdout",
          "output_type": "stream",
          "text": [
            "Accuracy - : 0.023\n"
          ]
        }
      ]
    }
  ]
}